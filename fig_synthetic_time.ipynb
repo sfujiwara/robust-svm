{
 "cells": [
  {
   "cell_type": "code",
   "execution_count": 1,
   "metadata": {
    "collapsed": true
   },
   "outputs": [],
   "source": [
    "import numpy as np\n",
    "import pandas as pd\n",
    "import matplotlib.pyplot as plt"
   ]
  },
  {
   "cell_type": "code",
   "execution_count": 2,
   "metadata": {
    "collapsed": true
   },
   "outputs": [],
   "source": [
    "DIR = \"results/synthetic/time/\""
   ]
  },
  {
   "cell_type": "code",
   "execution_count": 3,
   "metadata": {
    "collapsed": false
   },
   "outputs": [],
   "source": [
    "# ER-SVM + DCA\n",
    "df_dca = pd.read_csv(DIR+'dca.csv')\n",
    "\n",
    "df_dca_nu01 = pd.DataFrame({\n",
    "    \"mean\": df_dca[df_dca[\"nu\"]==0.1].groupby([\"outlier_ratio\"]).mean()[\"comp_time\"],\n",
    "    \"25percentile\": df_dca[df_dca[\"nu\"]==0.1].groupby([\"outlier_ratio\"]).quantile(0.25)[\"comp_time\"],\n",
    "    \"75percentile\": df_dca[df_dca[\"nu\"]==0.1].groupby([\"outlier_ratio\"]).quantile(0.75)[\"comp_time\"]\n",
    "}).reset_index(inplace=False)\n",
    "\n",
    "df_dca_nu05 = pd.DataFrame({\n",
    "    \"mean\": df_dca[df_dca[\"nu\"]==0.5].groupby([\"outlier_ratio\"]).mean()[\"comp_time\"],\n",
    "    \"25percentile\": df_dca[df_dca[\"nu\"]==0.5].groupby([\"outlier_ratio\"]).quantile(0.25)[\"comp_time\"],\n",
    "    \"75percentile\": df_dca[df_dca[\"nu\"]==0.5].groupby([\"outlier_ratio\"]).quantile(0.75)[\"comp_time\"]\n",
    "}).reset_index(inplace=False)"
   ]
  },
  {
   "cell_type": "code",
   "execution_count": 4,
   "metadata": {
    "collapsed": false
   },
   "outputs": [
    {
     "data": {
      "text/html": [
       "<div>\n",
       "<table border=\"1\" class=\"dataframe\">\n",
       "  <thead>\n",
       "    <tr style=\"text-align: right;\">\n",
       "      <th></th>\n",
       "      <th>outlier_ratio</th>\n",
       "      <th>25percentile</th>\n",
       "      <th>75percentile</th>\n",
       "      <th>mean</th>\n",
       "    </tr>\n",
       "  </thead>\n",
       "  <tbody>\n",
       "    <tr>\n",
       "      <th>0</th>\n",
       "      <td>0.00</td>\n",
       "      <td>0.025746</td>\n",
       "      <td>0.037754</td>\n",
       "      <td>0.033128</td>\n",
       "    </tr>\n",
       "    <tr>\n",
       "      <th>1</th>\n",
       "      <td>0.02</td>\n",
       "      <td>0.026440</td>\n",
       "      <td>0.038011</td>\n",
       "      <td>0.032946</td>\n",
       "    </tr>\n",
       "    <tr>\n",
       "      <th>2</th>\n",
       "      <td>0.04</td>\n",
       "      <td>0.026054</td>\n",
       "      <td>0.035060</td>\n",
       "      <td>0.031399</td>\n",
       "    </tr>\n",
       "    <tr>\n",
       "      <th>3</th>\n",
       "      <td>0.06</td>\n",
       "      <td>0.026303</td>\n",
       "      <td>0.041550</td>\n",
       "      <td>0.034552</td>\n",
       "    </tr>\n",
       "    <tr>\n",
       "      <th>4</th>\n",
       "      <td>0.08</td>\n",
       "      <td>0.028493</td>\n",
       "      <td>0.044222</td>\n",
       "      <td>0.039974</td>\n",
       "    </tr>\n",
       "    <tr>\n",
       "      <th>5</th>\n",
       "      <td>0.10</td>\n",
       "      <td>0.032215</td>\n",
       "      <td>0.050391</td>\n",
       "      <td>0.044859</td>\n",
       "    </tr>\n",
       "  </tbody>\n",
       "</table>\n",
       "</div>"
      ],
      "text/plain": [
       "   outlier_ratio  25percentile  75percentile      mean\n",
       "0           0.00      0.025746      0.037754  0.033128\n",
       "1           0.02      0.026440      0.038011  0.032946\n",
       "2           0.04      0.026054      0.035060  0.031399\n",
       "3           0.06      0.026303      0.041550  0.034552\n",
       "4           0.08      0.028493      0.044222  0.039974\n",
       "5           0.10      0.032215      0.050391  0.044859"
      ]
     },
     "execution_count": 4,
     "metadata": {},
     "output_type": "execute_result"
    }
   ],
   "source": [
    "df_dca_nu01"
   ]
  },
  {
   "cell_type": "code",
   "execution_count": 5,
   "metadata": {
    "collapsed": false
   },
   "outputs": [
    {
     "data": {
      "text/html": [
       "<div>\n",
       "<table border=\"1\" class=\"dataframe\">\n",
       "  <thead>\n",
       "    <tr style=\"text-align: right;\">\n",
       "      <th></th>\n",
       "      <th>outlier_ratio</th>\n",
       "      <th>25percentile</th>\n",
       "      <th>75percentile</th>\n",
       "      <th>mean</th>\n",
       "    </tr>\n",
       "  </thead>\n",
       "  <tbody>\n",
       "    <tr>\n",
       "      <th>0</th>\n",
       "      <td>0.00</td>\n",
       "      <td>0.027128</td>\n",
       "      <td>0.038756</td>\n",
       "      <td>0.034590</td>\n",
       "    </tr>\n",
       "    <tr>\n",
       "      <th>1</th>\n",
       "      <td>0.02</td>\n",
       "      <td>0.028327</td>\n",
       "      <td>0.037484</td>\n",
       "      <td>0.034844</td>\n",
       "    </tr>\n",
       "    <tr>\n",
       "      <th>2</th>\n",
       "      <td>0.04</td>\n",
       "      <td>0.028041</td>\n",
       "      <td>0.034985</td>\n",
       "      <td>0.032059</td>\n",
       "    </tr>\n",
       "    <tr>\n",
       "      <th>3</th>\n",
       "      <td>0.06</td>\n",
       "      <td>0.026864</td>\n",
       "      <td>0.032992</td>\n",
       "      <td>0.030272</td>\n",
       "    </tr>\n",
       "    <tr>\n",
       "      <th>4</th>\n",
       "      <td>0.08</td>\n",
       "      <td>0.027729</td>\n",
       "      <td>0.034472</td>\n",
       "      <td>0.032244</td>\n",
       "    </tr>\n",
       "    <tr>\n",
       "      <th>5</th>\n",
       "      <td>0.10</td>\n",
       "      <td>0.028386</td>\n",
       "      <td>0.045662</td>\n",
       "      <td>0.038785</td>\n",
       "    </tr>\n",
       "  </tbody>\n",
       "</table>\n",
       "</div>"
      ],
      "text/plain": [
       "   outlier_ratio  25percentile  75percentile      mean\n",
       "0           0.00      0.027128      0.038756  0.034590\n",
       "1           0.02      0.028327      0.037484  0.034844\n",
       "2           0.04      0.028041      0.034985  0.032059\n",
       "3           0.06      0.026864      0.032992  0.030272\n",
       "4           0.08      0.027729      0.034472  0.032244\n",
       "5           0.10      0.028386      0.045662  0.038785"
      ]
     },
     "execution_count": 5,
     "metadata": {},
     "output_type": "execute_result"
    }
   ],
   "source": [
    "df_dca_nu05"
   ]
  },
  {
   "cell_type": "code",
   "execution_count": 6,
   "metadata": {
    "collapsed": false
   },
   "outputs": [],
   "source": [
    "# C-SVM\n",
    "df_csvm = pd.read_csv(DIR+'csvm.csv')\n",
    "\n",
    "df_csvm_c1 = pd.DataFrame({\n",
    "    \"mean\": df_csvm[df_csvm[\"C\"]==1].groupby([\"outlier_ratio\"]).mean()[\"comp_time\"],\n",
    "    \"25percentile\": df_csvm[df_csvm[\"C\"]==1].groupby([\"outlier_ratio\"]).quantile(0.25)[\"comp_time\"],\n",
    "    \"75percentile\": df_csvm[df_csvm[\"C\"]==1].groupby([\"outlier_ratio\"]).quantile(0.75)[\"comp_time\"]\n",
    "}).reset_index(inplace=False)\n",
    "\n",
    "df_csvm_c25 = pd.DataFrame({\n",
    "    \"mean\": df_csvm[df_csvm[\"C\"]==25].groupby([\"outlier_ratio\"]).mean()[\"comp_time\"],\n",
    "    \"25percentile\": df_csvm[df_csvm[\"C\"]==25].groupby([\"outlier_ratio\"]).quantile(0.25)[\"comp_time\"],\n",
    "    \"75percentile\": df_csvm[df_csvm[\"C\"]==25].groupby([\"outlier_ratio\"]).quantile(0.75)[\"comp_time\"]\n",
    "}).reset_index(inplace=False)"
   ]
  },
  {
   "cell_type": "code",
   "execution_count": 7,
   "metadata": {
    "collapsed": false
   },
   "outputs": [
    {
     "data": {
      "text/html": [
       "<div>\n",
       "<table border=\"1\" class=\"dataframe\">\n",
       "  <thead>\n",
       "    <tr style=\"text-align: right;\">\n",
       "      <th></th>\n",
       "      <th>outlier_ratio</th>\n",
       "      <th>25percentile</th>\n",
       "      <th>75percentile</th>\n",
       "      <th>mean</th>\n",
       "    </tr>\n",
       "  </thead>\n",
       "  <tbody>\n",
       "    <tr>\n",
       "      <th>0</th>\n",
       "      <td>0.00</td>\n",
       "      <td>0.000486</td>\n",
       "      <td>0.000542</td>\n",
       "      <td>0.000545</td>\n",
       "    </tr>\n",
       "    <tr>\n",
       "      <th>1</th>\n",
       "      <td>0.02</td>\n",
       "      <td>0.003025</td>\n",
       "      <td>0.004097</td>\n",
       "      <td>0.003846</td>\n",
       "    </tr>\n",
       "    <tr>\n",
       "      <th>2</th>\n",
       "      <td>0.04</td>\n",
       "      <td>0.003993</td>\n",
       "      <td>0.005576</td>\n",
       "      <td>0.004960</td>\n",
       "    </tr>\n",
       "    <tr>\n",
       "      <th>3</th>\n",
       "      <td>0.06</td>\n",
       "      <td>0.004323</td>\n",
       "      <td>0.006634</td>\n",
       "      <td>0.005789</td>\n",
       "    </tr>\n",
       "    <tr>\n",
       "      <th>4</th>\n",
       "      <td>0.08</td>\n",
       "      <td>0.004321</td>\n",
       "      <td>0.007095</td>\n",
       "      <td>0.005970</td>\n",
       "    </tr>\n",
       "    <tr>\n",
       "      <th>5</th>\n",
       "      <td>0.10</td>\n",
       "      <td>0.006183</td>\n",
       "      <td>0.007748</td>\n",
       "      <td>0.007622</td>\n",
       "    </tr>\n",
       "  </tbody>\n",
       "</table>\n",
       "</div>"
      ],
      "text/plain": [
       "   outlier_ratio  25percentile  75percentile      mean\n",
       "0           0.00      0.000486      0.000542  0.000545\n",
       "1           0.02      0.003025      0.004097  0.003846\n",
       "2           0.04      0.003993      0.005576  0.004960\n",
       "3           0.06      0.004323      0.006634  0.005789\n",
       "4           0.08      0.004321      0.007095  0.005970\n",
       "5           0.10      0.006183      0.007748  0.007622"
      ]
     },
     "execution_count": 7,
     "metadata": {},
     "output_type": "execute_result"
    }
   ],
   "source": [
    "df_csvm_c1"
   ]
  },
  {
   "cell_type": "code",
   "execution_count": 8,
   "metadata": {
    "collapsed": false
   },
   "outputs": [
    {
     "data": {
      "text/html": [
       "<div>\n",
       "<table border=\"1\" class=\"dataframe\">\n",
       "  <thead>\n",
       "    <tr style=\"text-align: right;\">\n",
       "      <th></th>\n",
       "      <th>outlier_ratio</th>\n",
       "      <th>25percentile</th>\n",
       "      <th>75percentile</th>\n",
       "      <th>mean</th>\n",
       "    </tr>\n",
       "  </thead>\n",
       "  <tbody>\n",
       "    <tr>\n",
       "      <th>0</th>\n",
       "      <td>0.00</td>\n",
       "      <td>0.000505</td>\n",
       "      <td>0.001128</td>\n",
       "      <td>0.001232</td>\n",
       "    </tr>\n",
       "    <tr>\n",
       "      <th>1</th>\n",
       "      <td>0.02</td>\n",
       "      <td>0.044265</td>\n",
       "      <td>0.072381</td>\n",
       "      <td>0.064025</td>\n",
       "    </tr>\n",
       "    <tr>\n",
       "      <th>2</th>\n",
       "      <td>0.04</td>\n",
       "      <td>0.067399</td>\n",
       "      <td>0.110257</td>\n",
       "      <td>0.094055</td>\n",
       "    </tr>\n",
       "    <tr>\n",
       "      <th>3</th>\n",
       "      <td>0.06</td>\n",
       "      <td>0.076672</td>\n",
       "      <td>0.123849</td>\n",
       "      <td>0.122265</td>\n",
       "    </tr>\n",
       "    <tr>\n",
       "      <th>4</th>\n",
       "      <td>0.08</td>\n",
       "      <td>0.076326</td>\n",
       "      <td>0.128388</td>\n",
       "      <td>0.118870</td>\n",
       "    </tr>\n",
       "    <tr>\n",
       "      <th>5</th>\n",
       "      <td>0.10</td>\n",
       "      <td>0.113449</td>\n",
       "      <td>0.153249</td>\n",
       "      <td>0.188580</td>\n",
       "    </tr>\n",
       "  </tbody>\n",
       "</table>\n",
       "</div>"
      ],
      "text/plain": [
       "   outlier_ratio  25percentile  75percentile      mean\n",
       "0           0.00      0.000505      0.001128  0.001232\n",
       "1           0.02      0.044265      0.072381  0.064025\n",
       "2           0.04      0.067399      0.110257  0.094055\n",
       "3           0.06      0.076672      0.123849  0.122265\n",
       "4           0.08      0.076326      0.128388  0.118870\n",
       "5           0.10      0.113449      0.153249  0.188580"
      ]
     },
     "execution_count": 8,
     "metadata": {},
     "output_type": "execute_result"
    }
   ],
   "source": [
    "df_csvm_c25"
   ]
  },
  {
   "cell_type": "code",
   "execution_count": 9,
   "metadata": {
    "collapsed": false
   },
   "outputs": [],
   "source": [
    "# Enu-SVM\n",
    "df_enusvm = pd.read_csv(DIR+'enusvm.csv')\n",
    "\n",
    "df_enusvm_nu01 = pd.DataFrame({\n",
    "    \"mean\": df_enusvm[df_enusvm[\"nu\"]==0.1].groupby([\"outlier_ratio\"]).mean()[\"comp_time\"],\n",
    "    \"25percentile\": df_enusvm[df_enusvm[\"nu\"]==0.1].groupby([\"outlier_ratio\"]).quantile(0.25)[\"comp_time\"],\n",
    "    \"75percentile\": df_enusvm[df_enusvm[\"nu\"]==0.1].groupby([\"outlier_ratio\"]).quantile(0.75)[\"comp_time\"]\n",
    "}).reset_index(inplace=False)\n",
    "\n",
    "df_enusvm_nu05 = pd.DataFrame({\n",
    "    \"mean\": df_enusvm[df_enusvm[\"nu\"]==0.5].groupby([\"outlier_ratio\"]).mean()[\"comp_time\"],\n",
    "    \"25percentile\": df_enusvm[df_enusvm[\"nu\"]==0.5].groupby([\"outlier_ratio\"]).quantile(0.25)[\"comp_time\"],\n",
    "    \"75percentile\": df_enusvm[df_enusvm[\"nu\"]==0.5].groupby([\"outlier_ratio\"]).quantile(0.75)[\"comp_time\"]\n",
    "}).reset_index(inplace=False)"
   ]
  },
  {
   "cell_type": "code",
   "execution_count": 10,
   "metadata": {
    "collapsed": true
   },
   "outputs": [],
   "source": [
    "# Heuristics\n",
    "df_var = pd.read_csv(DIR+'var.csv')\n",
    "\n",
    "df_var_nu01 = pd.DataFrame({\n",
    "    \"mean\": df_var[df_var[\"nu\"]==0.1].groupby([\"outlier_ratio\"]).mean()[\"comp_time\"],\n",
    "    \"25percentile\": df_var[df_var[\"nu\"]==0.1].groupby([\"outlier_ratio\"]).quantile(0.25)[\"comp_time\"],\n",
    "    \"75percentile\": df_var[df_var[\"nu\"]==0.1].groupby([\"outlier_ratio\"]).quantile(0.75)[\"comp_time\"]\n",
    "}).reset_index(inplace=False)\n",
    "\n",
    "df_var_nu05 = pd.DataFrame({\n",
    "    \"mean\": df_var[df_var[\"nu\"]==0.5].groupby([\"outlier_ratio\"]).mean()[\"comp_time\"],\n",
    "    \"25percentile\": df_var[df_var[\"nu\"]==0.5].groupby([\"outlier_ratio\"]).quantile(0.25)[\"comp_time\"],\n",
    "    \"75percentile\": df_var[df_var[\"nu\"]==0.5].groupby([\"outlier_ratio\"]).quantile(0.75)[\"comp_time\"]\n",
    "}).reset_index(inplace=False)"
   ]
  },
  {
   "cell_type": "code",
   "execution_count": 11,
   "metadata": {
    "collapsed": false
   },
   "outputs": [
    {
     "data": {
      "text/html": [
       "<div>\n",
       "<table border=\"1\" class=\"dataframe\">\n",
       "  <thead>\n",
       "    <tr style=\"text-align: right;\">\n",
       "      <th></th>\n",
       "      <th>outlier_ratio</th>\n",
       "      <th>25percentile</th>\n",
       "      <th>75percentile</th>\n",
       "      <th>mean</th>\n",
       "    </tr>\n",
       "  </thead>\n",
       "  <tbody>\n",
       "    <tr>\n",
       "      <th>0</th>\n",
       "      <td>0.00</td>\n",
       "      <td>0.043790</td>\n",
       "      <td>0.070608</td>\n",
       "      <td>0.060677</td>\n",
       "    </tr>\n",
       "    <tr>\n",
       "      <th>1</th>\n",
       "      <td>0.02</td>\n",
       "      <td>0.062445</td>\n",
       "      <td>0.090350</td>\n",
       "      <td>0.076371</td>\n",
       "    </tr>\n",
       "    <tr>\n",
       "      <th>2</th>\n",
       "      <td>0.04</td>\n",
       "      <td>0.062911</td>\n",
       "      <td>0.094662</td>\n",
       "      <td>0.077503</td>\n",
       "    </tr>\n",
       "    <tr>\n",
       "      <th>3</th>\n",
       "      <td>0.06</td>\n",
       "      <td>0.062598</td>\n",
       "      <td>0.093962</td>\n",
       "      <td>0.080813</td>\n",
       "    </tr>\n",
       "    <tr>\n",
       "      <th>4</th>\n",
       "      <td>0.08</td>\n",
       "      <td>0.062516</td>\n",
       "      <td>0.094064</td>\n",
       "      <td>0.082107</td>\n",
       "    </tr>\n",
       "    <tr>\n",
       "      <th>5</th>\n",
       "      <td>0.10</td>\n",
       "      <td>0.064826</td>\n",
       "      <td>0.125039</td>\n",
       "      <td>0.099110</td>\n",
       "    </tr>\n",
       "  </tbody>\n",
       "</table>\n",
       "</div>"
      ],
      "text/plain": [
       "   outlier_ratio  25percentile  75percentile      mean\n",
       "0           0.00      0.043790      0.070608  0.060677\n",
       "1           0.02      0.062445      0.090350  0.076371\n",
       "2           0.04      0.062911      0.094662  0.077503\n",
       "3           0.06      0.062598      0.093962  0.080813\n",
       "4           0.08      0.062516      0.094064  0.082107\n",
       "5           0.10      0.064826      0.125039  0.099110"
      ]
     },
     "execution_count": 11,
     "metadata": {},
     "output_type": "execute_result"
    }
   ],
   "source": [
    "df_var_nu01"
   ]
  },
  {
   "cell_type": "code",
   "execution_count": 12,
   "metadata": {
    "collapsed": false
   },
   "outputs": [
    {
     "data": {
      "text/html": [
       "<div>\n",
       "<table border=\"1\" class=\"dataframe\">\n",
       "  <thead>\n",
       "    <tr style=\"text-align: right;\">\n",
       "      <th></th>\n",
       "      <th>outlier_ratio</th>\n",
       "      <th>25percentile</th>\n",
       "      <th>75percentile</th>\n",
       "      <th>mean</th>\n",
       "    </tr>\n",
       "  </thead>\n",
       "  <tbody>\n",
       "    <tr>\n",
       "      <th>0</th>\n",
       "      <td>0.00</td>\n",
       "      <td>0.044783</td>\n",
       "      <td>0.067493</td>\n",
       "      <td>0.056779</td>\n",
       "    </tr>\n",
       "    <tr>\n",
       "      <th>1</th>\n",
       "      <td>0.02</td>\n",
       "      <td>0.064667</td>\n",
       "      <td>0.087698</td>\n",
       "      <td>0.078783</td>\n",
       "    </tr>\n",
       "    <tr>\n",
       "      <th>2</th>\n",
       "      <td>0.04</td>\n",
       "      <td>0.067380</td>\n",
       "      <td>0.105515</td>\n",
       "      <td>0.090581</td>\n",
       "    </tr>\n",
       "    <tr>\n",
       "      <th>3</th>\n",
       "      <td>0.06</td>\n",
       "      <td>0.062366</td>\n",
       "      <td>0.120698</td>\n",
       "      <td>0.093500</td>\n",
       "    </tr>\n",
       "    <tr>\n",
       "      <th>4</th>\n",
       "      <td>0.08</td>\n",
       "      <td>0.062843</td>\n",
       "      <td>0.128988</td>\n",
       "      <td>0.100604</td>\n",
       "    </tr>\n",
       "    <tr>\n",
       "      <th>5</th>\n",
       "      <td>0.10</td>\n",
       "      <td>0.062135</td>\n",
       "      <td>0.121207</td>\n",
       "      <td>0.094795</td>\n",
       "    </tr>\n",
       "  </tbody>\n",
       "</table>\n",
       "</div>"
      ],
      "text/plain": [
       "   outlier_ratio  25percentile  75percentile      mean\n",
       "0           0.00      0.044783      0.067493  0.056779\n",
       "1           0.02      0.064667      0.087698  0.078783\n",
       "2           0.04      0.067380      0.105515  0.090581\n",
       "3           0.06      0.062366      0.120698  0.093500\n",
       "4           0.08      0.062843      0.128988  0.100604\n",
       "5           0.10      0.062135      0.121207  0.094795"
      ]
     },
     "execution_count": 12,
     "metadata": {},
     "output_type": "execute_result"
    }
   ],
   "source": [
    "df_var_nu05"
   ]
  },
  {
   "cell_type": "code",
   "execution_count": 13,
   "metadata": {
    "collapsed": true
   },
   "outputs": [],
   "source": [
    "# Ramp Loss SVM\n",
    "df_ramp = pd.read_csv(DIR+'ramp.csv')\n",
    "\n",
    "df_ramp_c1 = pd.DataFrame({\n",
    "    \"mean\": df_ramp[df_ramp[\"C\"]==1].groupby([\"outlier_ratio\"]).mean()[\"comp_time\"],\n",
    "    \"25percentile\": df_ramp[df_ramp[\"C\"]==1].groupby([\"outlier_ratio\"]).quantile(0.25)[\"comp_time\"],\n",
    "    \"75percentile\": df_ramp[df_ramp[\"C\"]==1].groupby([\"outlier_ratio\"]).quantile(0.75)[\"comp_time\"]\n",
    "}).reset_index(inplace=False)\n",
    "\n",
    "df_ramp_c25 = pd.DataFrame({\n",
    "    \"mean\": df_ramp[df_ramp[\"C\"]==25].groupby([\"outlier_ratio\"]).mean()[\"comp_time\"],\n",
    "    \"25percentile\": df_ramp[df_ramp[\"C\"]==25].groupby([\"outlier_ratio\"]).quantile(0.25)[\"comp_time\"],\n",
    "    \"75percentile\": df_ramp[df_ramp[\"C\"]==25].groupby([\"outlier_ratio\"]).quantile(0.75)[\"comp_time\"]\n",
    "}).reset_index(inplace=False)"
   ]
  },
  {
   "cell_type": "code",
   "execution_count": 14,
   "metadata": {
    "collapsed": true
   },
   "outputs": [],
   "source": [
    "plt.rcParams['axes.labelsize'] = 24\n",
    "plt.rcParams['lines.linewidth'] = 3\n",
    "plt.rcParams['legend.fontsize'] = 14\n",
    "plt.rcParams['legend.shadow'] = False\n",
    "plt.rcParams['xtick.labelsize'] = 14\n",
    "plt.rcParams['ytick.labelsize'] = 14\n",
    "plt.rcParams['lines.markeredgewidth'] = 1\n",
    "plt.rcParams['lines.markersize'] = 9\n",
    "\n",
    "elw = 0\n",
    "cs = 3"
   ]
  },
  {
   "cell_type": "code",
   "execution_count": 15,
   "metadata": {
    "collapsed": false
   },
   "outputs": [
    {
     "data": {
      "text/plain": [
       "<Container object of 3 artists>"
      ]
     },
     "execution_count": 15,
     "metadata": {},
     "output_type": "execute_result"
    }
   ],
   "source": [
    "# ER-SVM + DCA (nu = 0.1)\n",
    "yerr_u = np.array(df_dca_nu01[\"75percentile\"] - df_dca_nu01[\"mean\"])\n",
    "yerr_l = np.array(df_dca_nu01[\"mean\"] - df_dca_nu01[\"25percentile\"])\n",
    "\n",
    "plt.errorbar(\n",
    "    df_dca_nu01[\"outlier_ratio\"],\n",
    "    df_dca_nu01[\"mean\"],\n",
    "    yerr=np.array([yerr_u, yerr_l]),\n",
    "    label='ER-SVM (nu = 0.5)', elinewidth=elw, capsize=cs, fmt='-'\n",
    ")"
   ]
  },
  {
   "cell_type": "code",
   "execution_count": 16,
   "metadata": {
    "collapsed": false
   },
   "outputs": [
    {
     "data": {
      "text/plain": [
       "<Container object of 3 artists>"
      ]
     },
     "execution_count": 16,
     "metadata": {},
     "output_type": "execute_result"
    }
   ],
   "source": [
    "# ER-SVM + DCA (nu = 0.5)\n",
    "yerr_u = np.array(df_dca_nu05[\"75percentile\"] - df_dca_nu05[\"mean\"])\n",
    "yerr_l = np.array(df_dca_nu05[\"mean\"] - df_dca_nu05[\"25percentile\"])\n",
    "\n",
    "plt.errorbar(\n",
    "    df_dca_nu05[\"outlier_ratio\"],\n",
    "    df_dca_nu05[\"mean\"],\n",
    "    yerr=np.array([yerr_u, yerr_l]),\n",
    "    label='ER-SVM (nu = 0.1)', elinewidth=elw, capsize=cs, fmt='-^'\n",
    ")"
   ]
  },
  {
   "cell_type": "code",
   "execution_count": 17,
   "metadata": {
    "collapsed": false
   },
   "outputs": [
    {
     "data": {
      "text/plain": [
       "<Container object of 3 artists>"
      ]
     },
     "execution_count": 17,
     "metadata": {},
     "output_type": "execute_result"
    }
   ],
   "source": [
    "# C-SVM (C = 1)\n",
    "yerr_u = np.array(df_csvm_c1[\"75percentile\"] - df_csvm_c1[\"mean\"])\n",
    "yerr_l = np.array(df_csvm_c1[\"mean\"] - df_csvm_c1[\"25percentile\"])\n",
    "\n",
    "plt.errorbar(\n",
    "    df_csvm_c1[\"outlier_ratio\"],\n",
    "    df_csvm_c1[\"mean\"],\n",
    "    yerr=np.array([yerr_u, yerr_l]),\n",
    "    label='C-SVM (C = 1)', elinewidth=elw, capsize=cs, fmt=':'\n",
    ")"
   ]
  },
  {
   "cell_type": "code",
   "execution_count": 18,
   "metadata": {
    "collapsed": false
   },
   "outputs": [
    {
     "data": {
      "text/plain": [
       "<Container object of 3 artists>"
      ]
     },
     "execution_count": 18,
     "metadata": {},
     "output_type": "execute_result"
    }
   ],
   "source": [
    "# C-SVM (C = 25)\n",
    "yerr_u = np.array(df_csvm_c25[\"75percentile\"] - df_csvm_c25[\"mean\"])\n",
    "yerr_l = np.array(df_csvm_c25[\"mean\"] - df_csvm_c25[\"25percentile\"])\n",
    "\n",
    "plt.errorbar(\n",
    "    df_csvm_c25[\"outlier_ratio\"],\n",
    "    df_csvm_c25[\"mean\"],\n",
    "    yerr=np.array([yerr_u, yerr_l]),\n",
    "    label='C-SVM (C = 25)', elinewidth=elw, capsize=cs, fmt=':^'\n",
    ")"
   ]
  },
  {
   "cell_type": "code",
   "execution_count": 19,
   "metadata": {
    "collapsed": false
   },
   "outputs": [
    {
     "data": {
      "text/plain": [
       "<Container object of 3 artists>"
      ]
     },
     "execution_count": 19,
     "metadata": {},
     "output_type": "execute_result"
    }
   ],
   "source": [
    "# Enu-SVM (nu = 0.1)\n",
    "yerr_u = np.array(df_enusvm_nu01[\"75percentile\"] - df_enusvm_nu01[\"mean\"])\n",
    "yerr_l = np.array(df_enusvm_nu01[\"mean\"] - df_enusvm_nu01[\"25percentile\"])\n",
    "\n",
    "plt.errorbar(\n",
    "    df_enusvm_nu01[\"outlier_ratio\"],\n",
    "    df_enusvm_nu01[\"mean\"],\n",
    "    yerr=np.array([yerr_u, yerr_l]),\n",
    "    label='Enu-SVM (nu = 0.1)', elinewidth=elw, capsize=cs, fmt='-.'\n",
    ")"
   ]
  },
  {
   "cell_type": "code",
   "execution_count": 20,
   "metadata": {
    "collapsed": false
   },
   "outputs": [
    {
     "data": {
      "text/plain": [
       "<Container object of 3 artists>"
      ]
     },
     "execution_count": 20,
     "metadata": {},
     "output_type": "execute_result"
    }
   ],
   "source": [
    "# Enu-SVM (nu = 0.5)\n",
    "yerr_u = np.array(df_enusvm_nu05[\"75percentile\"] - df_enusvm_nu05[\"mean\"])\n",
    "yerr_l = np.array(df_enusvm_nu05[\"mean\"] - df_enusvm_nu05[\"25percentile\"])\n",
    "\n",
    "plt.errorbar(\n",
    "    df_enusvm_nu05[\"outlier_ratio\"],\n",
    "    df_enusvm_nu05[\"mean\"],\n",
    "    yerr=np.array([yerr_u, yerr_l]),\n",
    "    label='Enu-SVM (nu = 0.5)', elinewidth=elw, capsize=cs, fmt='-.^'\n",
    ")"
   ]
  },
  {
   "cell_type": "code",
   "execution_count": 21,
   "metadata": {
    "collapsed": false
   },
   "outputs": [
    {
     "data": {
      "text/plain": [
       "<Container object of 3 artists>"
      ]
     },
     "execution_count": 21,
     "metadata": {},
     "output_type": "execute_result"
    }
   ],
   "source": [
    "# Heuristics (nu = 0.1)\n",
    "yerr_u = np.array(df_var_nu01[\"75percentile\"] - df_var_nu01[\"mean\"])\n",
    "yerr_l = np.array(df_var_nu01[\"mean\"] - df_var_nu01[\"25percentile\"])\n",
    "\n",
    "plt.errorbar(\n",
    "    df_var_nu01[\"outlier_ratio\"],\n",
    "    df_var_nu01[\"mean\"],\n",
    "    yerr=np.array([yerr_u, yerr_l]),\n",
    "    label='Heuristics (nu = 0.1)', elinewidth=elw, capsize=cs, fmt='--'\n",
    ")"
   ]
  },
  {
   "cell_type": "code",
   "execution_count": 22,
   "metadata": {
    "collapsed": false
   },
   "outputs": [
    {
     "data": {
      "text/plain": [
       "<Container object of 3 artists>"
      ]
     },
     "execution_count": 22,
     "metadata": {},
     "output_type": "execute_result"
    }
   ],
   "source": [
    "# Heuristics (nu = 0.5)\n",
    "yerr_u = np.array(df_var_nu05[\"75percentile\"] - df_var_nu05[\"mean\"])\n",
    "yerr_l = np.array(df_var_nu05[\"mean\"] - df_var_nu05[\"25percentile\"])\n",
    "\n",
    "plt.errorbar(\n",
    "    df_var_nu05[\"outlier_ratio\"],\n",
    "    df_var_nu05[\"mean\"],\n",
    "    yerr=np.array([yerr_u, yerr_l]),\n",
    "    label='Heuristics (nu = 0.5)', elinewidth=elw, capsize=cs, fmt='--^'\n",
    ")"
   ]
  },
  {
   "cell_type": "code",
   "execution_count": 23,
   "metadata": {
    "collapsed": false
   },
   "outputs": [
    {
     "data": {
      "text/plain": [
       "<Container object of 3 artists>"
      ]
     },
     "execution_count": 23,
     "metadata": {},
     "output_type": "execute_result"
    }
   ],
   "source": [
    "# Ramp Loss SVM (C = 1)\n",
    "yerr_u = np.array(df_ramp_c1[\"75percentile\"] - df_ramp_c1[\"mean\"])\n",
    "yerr_l = np.array(df_ramp_c1[\"mean\"] - df_ramp_c1[\"25percentile\"])\n",
    "\n",
    "plt.errorbar(\n",
    "    df_ramp_c1[\"outlier_ratio\"],\n",
    "    df_ramp_c1[\"mean\"],\n",
    "    yerr=np.array([yerr_u, yerr_l]),\n",
    "    label='C-SVM (C = 1)', elinewidth=elw, capsize=cs, fmt='-s'\n",
    ")"
   ]
  },
  {
   "cell_type": "code",
   "execution_count": 24,
   "metadata": {
    "collapsed": false
   },
   "outputs": [
    {
     "data": {
      "text/plain": [
       "<Container object of 3 artists>"
      ]
     },
     "execution_count": 24,
     "metadata": {},
     "output_type": "execute_result"
    }
   ],
   "source": [
    "# Ramp Loss SVM (C = 25)\n",
    "yerr_u = np.array(df_ramp_c25[\"75percentile\"] - df_ramp_c25[\"mean\"])\n",
    "yerr_l = np.array(df_ramp_c25[\"mean\"] - df_ramp_c25[\"25percentile\"])\n",
    "\n",
    "plt.errorbar(\n",
    "    df_ramp_c25[\"outlier_ratio\"],\n",
    "    df_ramp_c25[\"mean\"],\n",
    "    yerr=np.array([yerr_u, yerr_l]),\n",
    "    label='C-SVM (C = 25)', elinewidth=elw, capsize=cs, fmt='-s'\n",
    ")"
   ]
  },
  {
   "cell_type": "code",
   "execution_count": 25,
   "metadata": {
    "collapsed": false
   },
   "outputs": [],
   "source": [
    "plt.xlabel('Outlier Ratio')\n",
    "plt.ylabel('Training Time (sec)')\n",
    "plt.xlim([-0.005, 0.105])\n",
    "plt.ylim([-0.05, 0.3])\n",
    "plt.legend(loc='upper left')\n",
    "plt.grid()\n",
    "plt.show()"
   ]
  },
  {
   "cell_type": "code",
   "execution_count": null,
   "metadata": {
    "collapsed": true
   },
   "outputs": [],
   "source": [
    ""
   ]
  }
 ],
 "metadata": {
  "kernelspec": {
   "display_name": "Python 2",
   "language": "python",
   "name": "python2"
  },
  "language_info": {
   "codemirror_mode": {
    "name": "ipython",
    "version": 2.0
   },
   "file_extension": ".py",
   "mimetype": "text/x-python",
   "name": "python",
   "nbconvert_exporter": "python",
   "pygments_lexer": "ipython2",
   "version": "2.7.11"
  }
 },
 "nbformat": 4,
 "nbformat_minor": 0
}